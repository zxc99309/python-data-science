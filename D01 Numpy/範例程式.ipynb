{
 "cells": [
  {
   "cell_type": "markdown",
   "metadata": {
    "id": "CnuY2D2ua1mQ"
   },
   "source": [
    "<img width=150 src=\"https://upload.wikimedia.org/wikipedia/commons/thumb/1/1a/NumPy_logo.svg/200px-NumPy_logo.svg.png\"></img>\n",
    "\n",
    "# Part.2-1-01 NumPy 陣列的基本操作"
   ]
  },
  {
   "cell_type": "markdown",
   "metadata": {
    "id": "M28AhyiWa1mZ"
   },
   "source": [
    "# 0. 安裝與載入 NumPy\n",
    "\n",
    "安裝 NumPy 可以使用 `pip install numpy` 或是 `pip3 install numpy`，在 Anaconda 環境下的話，執行 `conda install numpy` 進行安裝。"
   ]
  },
  {
   "cell_type": "code",
   "execution_count": 1,
   "metadata": {
    "id": "gIPwS9Hwa1ma"
   },
   "outputs": [
    {
     "name": "stdout",
     "output_type": "stream",
     "text": [
      "Requirement already satisfied: numpy in c:\\users\\zxc99\\anaconda3\\lib\\site-packages (1.18.5)\n"
     ]
    }
   ],
   "source": [
    "!pip3 install numpy"
   ]
  },
  {
   "cell_type": "markdown",
   "metadata": {
    "id": "PYXeWm6ba1mb"
   },
   "source": [
    "載入 NumPy"
   ]
  },
  {
   "cell_type": "code",
   "execution_count": 2,
   "metadata": {
    "id": "d6Y8_EG_a1mc"
   },
   "outputs": [],
   "source": [
    "import numpy as np"
   ]
  },
  {
   "cell_type": "markdown",
   "metadata": {
    "id": "WaOQK8Vda1mc"
   },
   "source": [
    "目前安裝的 NumPy 版本"
   ]
  },
  {
   "cell_type": "code",
   "execution_count": 3,
   "metadata": {
    "id": "1z5wd2CHa1mc",
    "outputId": "fbfbaebe-fc94-4eae-85e2-9b0ee51be8f3"
   },
   "outputs": [
    {
     "data": {
      "text/plain": [
       "'1.18.5'"
      ]
     },
     "execution_count": 3,
     "metadata": {},
     "output_type": "execute_result"
    }
   ],
   "source": [
    "np.__version__"
   ]
  },
  {
   "cell_type": "markdown",
   "metadata": {
    "id": "LqM-FONEa1me"
   },
   "source": [
    "## 1. 建立 NumPy array (陣列)\n",
    "\n",
    "### 1.1 `array()` 函式\n",
    "\n",
    "使用 `array()` 函式，可將 Python list 或元組 (tuple) 的值建立為 NumPy array。"
   ]
  },
  {
   "cell_type": "code",
   "execution_count": 4,
   "metadata": {
    "id": "620SyM9da1mf"
   },
   "outputs": [],
   "source": [
    "# 使用 list\n",
    "a = np.array([1, 2, 3, 4, 5])"
   ]
  },
  {
   "cell_type": "code",
   "execution_count": 5,
   "metadata": {
    "id": "Nam1Hq2xa1mf",
    "outputId": "cb81788e-88bb-4e53-c6cd-c6cd4db10956"
   },
   "outputs": [
    {
     "data": {
      "text/plain": [
       "array([1, 2, 3, 4, 5])"
      ]
     },
     "execution_count": 5,
     "metadata": {},
     "output_type": "execute_result"
    }
   ],
   "source": [
    "a"
   ]
  },
  {
   "cell_type": "code",
   "execution_count": 6,
   "metadata": {
    "id": "QezMY2JOa1mf"
   },
   "outputs": [],
   "source": [
    "# 使用元組\n",
    "b = np.array((6, 7, 8))"
   ]
  },
  {
   "cell_type": "markdown",
   "metadata": {
    "id": "S9Uz0w49a1mg"
   },
   "source": [
    "可以看到建立的陣列型別為 numpy.ndarray"
   ]
  },
  {
   "cell_type": "code",
   "execution_count": 7,
   "metadata": {
    "id": "Z3DP52Bsa1mg",
    "outputId": "404ffe3d-37e2-4d99-c36b-ee69d2567239"
   },
   "outputs": [
    {
     "data": {
      "text/plain": [
       "(numpy.ndarray, numpy.ndarray)"
      ]
     },
     "execution_count": 7,
     "metadata": {},
     "output_type": "execute_result"
    }
   ],
   "source": [
    "type(a), type(b)"
   ]
  },
  {
   "cell_type": "markdown",
   "metadata": {
    "id": "EsBBJrbfa1mh"
   },
   "source": [
    "下列的語法則會造成錯誤"
   ]
  },
  {
   "cell_type": "code",
   "execution_count": 8,
   "metadata": {
    "id": "JsnFo17Ra1mh",
    "outputId": "f8fbd124-f251-48bb-f3be-b67a0fb91ac3"
   },
   "outputs": [
    {
     "ename": "ValueError",
     "evalue": "only 2 non-keyword arguments accepted",
     "output_type": "error",
     "traceback": [
      "\u001b[1;31m---------------------------------------------------------------------------\u001b[0m",
      "\u001b[1;31mValueError\u001b[0m                                Traceback (most recent call last)",
      "\u001b[1;32m<ipython-input-8-9ad0042d0266>\u001b[0m in \u001b[0;36m<module>\u001b[1;34m\u001b[0m\n\u001b[1;32m----> 1\u001b[1;33m \u001b[0mnp\u001b[0m\u001b[1;33m.\u001b[0m\u001b[0marray\u001b[0m\u001b[1;33m(\u001b[0m\u001b[1;36m1\u001b[0m\u001b[1;33m,\u001b[0m \u001b[1;36m2\u001b[0m\u001b[1;33m,\u001b[0m \u001b[1;36m3\u001b[0m\u001b[1;33m)\u001b[0m\u001b[1;33m\u001b[0m\u001b[1;33m\u001b[0m\u001b[0m\n\u001b[0m",
      "\u001b[1;31mValueError\u001b[0m: only 2 non-keyword arguments accepted"
     ]
    }
   ],
   "source": [
    "np.array(1, 2, 3)"
   ]
  },
  {
   "cell_type": "markdown",
   "metadata": {
    "id": "ebd-8ykOa1mi"
   },
   "source": [
    "### 1.2 使用 `arange()` 與 `linspace()` 函式產生等差一維陣列\n",
    "\n",
    "要用序列數字產生陣列元素的話，可以使用 `arange()` 函式，`arange()` 函式引數如下，其中結束值為必輸，起始值、間隔值非必輸。產生的序列數字包含起始值但不包含結束值，也就是 `[start, stop)` 的表示方式。\n",
    "\n",
    "```python\n",
    "numpy.arange([start, ]stop, [step, ]dtype=None)\n",
    "```\n",
    "\n",
    "產生的元素，會是依照起始值、結束值、間隔值做等差的數字序列。\n",
    "\n",
    "NumPy 陣列支援的資料型別 (dtype) 如下表：\n",
    "\n",
    "||型別|\n",
    "|---|---|\n",
    "|signed整數|int8, int16, int32, int64|\n",
    "|unsigned整數|uint8, uint16, uint32, uint64|\n",
    "|浮點數|float16, float32, float64, float128|\n",
    "|布林值|bool|"
   ]
  },
  {
   "cell_type": "code",
   "execution_count": 9,
   "metadata": {
    "id": "wJXxiEW2a1mi",
    "outputId": "a0bae189-15bd-4f22-b3a2-d7414795654f"
   },
   "outputs": [
    {
     "data": {
      "text/plain": [
       "array([0, 1, 2, 3, 4, 5, 6, 7, 8, 9])"
      ]
     },
     "execution_count": 9,
     "metadata": {},
     "output_type": "execute_result"
    }
   ],
   "source": [
    "# 產生 0 - 9 十個數字元素\n",
    "np.arange(10)"
   ]
  },
  {
   "cell_type": "code",
   "execution_count": 10,
   "metadata": {
    "id": "eVNcIv4pa1mi",
    "outputId": "62f45bb5-81d7-43c4-fe0b-dd9f4ed7d4c2"
   },
   "outputs": [
    {
     "data": {
      "text/plain": [
       "array([2, 4, 6, 8])"
      ]
     },
     "execution_count": 10,
     "metadata": {},
     "output_type": "execute_result"
    }
   ],
   "source": [
    "# 產生 2, 4, 6, 8 數字元素\n",
    "np.arange(2, 10, 2)"
   ]
  },
  {
   "cell_type": "markdown",
   "metadata": {
    "id": "Fymcu3ZJa1mj"
   },
   "source": [
    "下例是浮點數序列的示範。"
   ]
  },
  {
   "cell_type": "code",
   "execution_count": 11,
   "metadata": {
    "id": "g1Mfufuqa1mj",
    "outputId": "a1cbc24e-39bc-4292-d8b1-e6c8fc41020a"
   },
   "outputs": [
    {
     "data": {
      "text/plain": [
       "array([1. , 1.5, 2. , 2.5])"
      ]
     },
     "execution_count": 11,
     "metadata": {},
     "output_type": "execute_result"
    }
   ],
   "source": [
    "np.arange(1.0, 3.0, 0.5, dtype='float64')"
   ]
  },
  {
   "cell_type": "markdown",
   "metadata": {
    "id": "vCE1mi0Ua1mj"
   },
   "source": [
    "當在 `arange()` 使用非整數的間隔值時，有可能會產生不一致的結果，如下例會有時會包含結束值但有時候不會。這時候可以考慮使用 `linspace()` 函式。"
   ]
  },
  {
   "cell_type": "code",
   "execution_count": 12,
   "metadata": {
    "id": "yhPNav7Ba1mj",
    "outputId": "397f2ad6-60f4-487b-97aa-3c30d2de8ba9"
   },
   "outputs": [
    {
     "name": "stdout",
     "output_type": "stream",
     "text": [
      "沒有包含結束值： [0.13 0.14 0.15]\n",
      "包含結束值： [0.12 0.13 0.14 0.15 0.16]\n"
     ]
    }
   ],
   "source": [
    "a = np.arange(0.13, 0.16, step=0.01)\n",
    "print(\"沒有包含結束值：\", a)\n",
    "b = np.arange(0.12, 0.16, step=0.01)\n",
    "print(\"包含結束值：\", b)"
   ]
  },
  {
   "cell_type": "markdown",
   "metadata": {
    "id": "0lEziAnJa1mk"
   },
   "source": [
    "跟 `arange()` 的用法很類似，呼叫 `linspace()` 時的引數有啟始值、結束值、資料型別 `dtype`。\n",
    "\n",
    "與 `arange()` 不同的地方在於起始跟結束值都是必輸，產生該範圍內等分的數值，另外對於產生的元素也可以有更多的控制：\n",
    "- `num`：產生元素數\n",
    "- `endpoint`:是否包含結束值\n",
    "- `retstep`：是否要顯示間隔值，間隔值是依照啟始值、結束值、產生元素數計算而得\n",
    "- `axis`：產生依據的軸\n",
    "\n",
    "`linspace()` 函式的定義：\n",
    "\n",
    "```python\n",
    "numpy.linspace(start, stop, num=50, endpoint=True, retstep=False, dtype=None, axis=0)\n",
    "```\n",
    "\n",
    "下面 `linspace()` 的例子跟上面 `arange()` 的例子會有完全相同的產出。\n",
    "```python\n",
    "np.arange(2, 10, 2)\n",
    "```"
   ]
  },
  {
   "cell_type": "code",
   "execution_count": 13,
   "metadata": {
    "id": "e00xqppia1mk",
    "outputId": "33f47154-521a-42ad-ffd5-7d44753ace67"
   },
   "outputs": [
    {
     "data": {
      "text/plain": [
       "array([2., 4., 6., 8.])"
      ]
     },
     "execution_count": 13,
     "metadata": {},
     "output_type": "execute_result"
    }
   ],
   "source": [
    "np.linspace(2, 10, num=4, endpoint=False)"
   ]
  },
  {
   "cell_type": "code",
   "execution_count": 14,
   "metadata": {
    "id": "ckt_IDNRa1mk",
    "outputId": "3c27922b-3ec0-4eec-dec6-21f6ffabd541"
   },
   "outputs": [
    {
     "data": {
      "text/plain": [
       "(array([2.  , 2.25, 2.5 , 2.75, 3.  ]), 0.25)"
      ]
     },
     "execution_count": 14,
     "metadata": {},
     "output_type": "execute_result"
    }
   ],
   "source": [
    "# 顯示間值值\n",
    "np.linspace(2.0, 3.0, num=5, retstep=True)"
   ]
  },
  {
   "cell_type": "markdown",
   "metadata": {
    "id": "d3u6OMFNa1ml"
   },
   "source": [
    "### 1.3 建立多維陣列\n",
    "\n",
    "要建立多維陣列，簡單的理解方式就是陣列中的元素也是陣列，呼叫 `array()` 函式時，只要將 list 中的元素也是 list 傳入即可。下面的例子是建立二維陣列。"
   ]
  },
  {
   "cell_type": "code",
   "execution_count": 15,
   "metadata": {
    "id": "XPRG30Nta1ml"
   },
   "outputs": [],
   "source": [
    "a = np.array([[1, 2, 3], [4, 5, 6]])"
   ]
  },
  {
   "cell_type": "markdown",
   "metadata": {
    "id": "XcEpWHEea1ml"
   },
   "source": [
    "使用 `print()` 函式可將陣列印出"
   ]
  },
  {
   "cell_type": "code",
   "execution_count": 16,
   "metadata": {
    "id": "JYDf9RKWa1ml",
    "outputId": "65f1a146-2e8b-48a9-db8e-446805ce4872"
   },
   "outputs": [
    {
     "name": "stdout",
     "output_type": "stream",
     "text": [
      "[[1 2 3]\n",
      " [4 5 6]]\n"
     ]
    }
   ],
   "source": [
    "print(a)"
   ]
  },
  {
   "cell_type": "markdown",
   "metadata": {
    "id": "fmN07tqZa1mm"
   },
   "source": [
    "使用 `shape` 屬性，可以查看多維陣列的形狀。如下例 a 陣列是一個 2 $\\times$ 3 的二維陣列。"
   ]
  },
  {
   "cell_type": "code",
   "execution_count": 17,
   "metadata": {
    "id": "m2It_4AXa1mm",
    "outputId": "05db6869-fc01-4463-f063-3729300c81d9"
   },
   "outputs": [
    {
     "data": {
      "text/plain": [
       "(2, 3)"
      ]
     },
     "execution_count": 17,
     "metadata": {},
     "output_type": "execute_result"
    }
   ],
   "source": [
    "a.shape"
   ]
  },
  {
   "cell_type": "markdown",
   "metadata": {
    "id": "k4ir1WMda1mm"
   },
   "source": [
    "下列例子是建立三維陣列，也可以理解為 2 個 4 $\\times$ 3 的二維陣列排在一起。"
   ]
  },
  {
   "cell_type": "code",
   "execution_count": 18,
   "metadata": {
    "id": "XqWROFUJa1mm"
   },
   "outputs": [],
   "source": [
    "b = np.array([[[1, 2, 3], [4, 5, 6],\n",
    "              [7, 8, 9], [10, 11, 12]],\n",
    "              [[1, 2, 3], [4, 5, 6],\n",
    "              [7, 8, 9], [10, 11, 12]]])"
   ]
  },
  {
   "cell_type": "code",
   "execution_count": 19,
   "metadata": {
    "id": "FxieQNsda1mn",
    "outputId": "9fcedc12-e5ea-4d23-b1ec-fef479988938"
   },
   "outputs": [
    {
     "name": "stdout",
     "output_type": "stream",
     "text": [
      "[[[ 1  2  3]\n",
      "  [ 4  5  6]\n",
      "  [ 7  8  9]\n",
      "  [10 11 12]]\n",
      "\n",
      " [[ 1  2  3]\n",
      "  [ 4  5  6]\n",
      "  [ 7  8  9]\n",
      "  [10 11 12]]]\n"
     ]
    }
   ],
   "source": [
    "print(b)"
   ]
  },
  {
   "cell_type": "code",
   "execution_count": 20,
   "metadata": {
    "id": "35aUA125a1mn",
    "outputId": "22c0aed2-ad6e-47b0-bdb9-5a5f66dd3489"
   },
   "outputs": [
    {
     "data": {
      "text/plain": [
       "(2, 4, 3)"
      ]
     },
     "execution_count": 20,
     "metadata": {},
     "output_type": "execute_result"
    }
   ],
   "source": [
    "b.shape"
   ]
  },
  {
   "cell_type": "markdown",
   "metadata": {
    "id": "ASm0lYK_a1mn"
   },
   "source": [
    "要查看多維陣列的維度數目，可以查看陣列的 `ndim` 屬性。"
   ]
  },
  {
   "cell_type": "code",
   "execution_count": 21,
   "metadata": {
    "id": "91zU5HRna1mo",
    "outputId": "ec2abd02-7c79-413b-a17f-754dab572346"
   },
   "outputs": [
    {
     "data": {
      "text/plain": [
       "3"
      ]
     },
     "execution_count": 21,
     "metadata": {},
     "output_type": "execute_result"
    }
   ],
   "source": [
    "b.ndim"
   ]
  },
  {
   "cell_type": "markdown",
   "metadata": {
    "id": "P0OdbUpga1mo"
   },
   "source": [
    "多維陣列建立時須注意各維度是否一致，否則如下例會產生預期之外的結果。"
   ]
  },
  {
   "cell_type": "code",
   "execution_count": 22,
   "metadata": {
    "id": "VxapZbZAa1mp",
    "outputId": "5df4c3a5-08a0-4402-90df-3290f53f6020"
   },
   "outputs": [
    {
     "data": {
      "text/plain": [
       "array([list([[1, 2, 3], [4, 5, 6], [7, 8, 9], [10, 11, 12]]),\n",
       "       list([[1, 2, 3], [4, 5, 6]])], dtype=object)"
      ]
     },
     "execution_count": 22,
     "metadata": {},
     "output_type": "execute_result"
    }
   ],
   "source": [
    "np.array([[[1, 2, 3], [4, 5, 6],\n",
    "              [7, 8, 9], [10, 11, 12]],\n",
    "              [[1, 2, 3], [4, 5, 6]]])"
   ]
  },
  {
   "cell_type": "markdown",
   "metadata": {
    "id": "iSg28uRUa1mp"
   },
   "source": [
    "### 1.4 `zeros()`、`ones()`、`empty()`\n",
    "\n",
    "呼叫 `zeros()`、`ones()`函式，可以依照傳入的形狀引數，建立元素全為 0、全為 1 的陣列。\n",
    "\n",
    "`empty()` 則是不需要給定起始值，但是可以建立給定形狀的陣列，元素值則會隨機給定。"
   ]
  },
  {
   "cell_type": "code",
   "execution_count": 23,
   "metadata": {
    "id": "1MK0_U5Pa1mq",
    "outputId": "38e67e4d-dd56-4db8-fce1-7ec3673abb7e"
   },
   "outputs": [
    {
     "data": {
      "text/plain": [
       "array([[0., 0., 0.],\n",
       "       [0., 0., 0.],\n",
       "       [0., 0., 0.],\n",
       "       [0., 0., 0.],\n",
       "       [0., 0., 0.]])"
      ]
     },
     "execution_count": 23,
     "metadata": {},
     "output_type": "execute_result"
    }
   ],
   "source": [
    "np.zeros((5, 3))"
   ]
  },
  {
   "cell_type": "code",
   "execution_count": 24,
   "metadata": {
    "id": "wyOg1ySAa1mq",
    "outputId": "8dc453fd-54d6-4901-91df-e5530633f6c9"
   },
   "outputs": [
    {
     "data": {
      "text/plain": [
       "array([[1., 1., 1.],\n",
       "       [1., 1., 1.]])"
      ]
     },
     "execution_count": 24,
     "metadata": {},
     "output_type": "execute_result"
    }
   ],
   "source": [
    "np.ones([2, 3])"
   ]
  },
  {
   "cell_type": "code",
   "execution_count": 25,
   "metadata": {
    "id": "OhxhkdBQa1mr",
    "outputId": "cad6b8b6-27ab-473f-bcbc-3ae92bf10758"
   },
   "outputs": [
    {
     "data": {
      "text/plain": [
       "array([[[0.000e+000, 0.000e+000],\n",
       "        [0.000e+000, 0.000e+000]],\n",
       "\n",
       "       [[0.000e+000, 4.466e-321],\n",
       "        [0.000e+000, 0.000e+000]]])"
      ]
     },
     "execution_count": 25,
     "metadata": {},
     "output_type": "execute_result"
    }
   ],
   "source": [
    "np.empty((2, 2, 2))"
   ]
  },
  {
   "cell_type": "markdown",
   "metadata": {
    "id": "baEI3o5pa1mr"
   },
   "source": [
    "### 1.5 使用隨機函式產生陣列的元素\n",
    "\n",
    "下列是常用的函式及簡介：\n",
    "\n",
    "|函式|說明|產生數值區間|隨機數資料型別|隨機數分佈|\n",
    "|---|---|---|---|---|\n",
    "|rand()|隨機產生指定形狀(shape)的陣列|[0, 1)|浮點數|連續型均勻分布|\n",
    "|randn()|隨機產生指定形狀(shape)的陣列|(-1, 1)|浮點數|常態分佈|\n",
    "|randint((low[, high, size, dtype]))|隨機產生設定區間元素|[low, high)|整數|離散型均勻分布|\n",
    "|random_sample([size])|隨機產生指定大小的一維陣列|[0.0, 1.0)|浮點數|連續型均勻分布|\n",
    "|random([size])|隨機產生指定大小的一維陣列|[0.0, 1.0)|浮點數|連續型均勻分布|\n",
    "|randf([size])|隨機產生指定大小的一維陣列|[0.0, 1.0)|浮點數|連續型均勻分布|\n",
    "|sample([size])|隨機產生指定大小的一維陣列|[0.0, 1.0)|浮點數|連續型均勻分布|"
   ]
  },
  {
   "cell_type": "code",
   "execution_count": 26,
   "metadata": {
    "id": "U9MavDN-a1mr"
   },
   "outputs": [],
   "source": [
    "# 設定隨機種子\n",
    "np.random.seed(0)"
   ]
  },
  {
   "cell_type": "markdown",
   "metadata": {
    "id": "W_VbRTqna1ms"
   },
   "source": [
    "#### 1.5.1 隨機產生指定形狀的陣列"
   ]
  },
  {
   "cell_type": "code",
   "execution_count": 27,
   "metadata": {
    "id": "yDvcnEUPa1ms",
    "outputId": "63f2c1ce-cfeb-47de-8edf-c73a01a94735"
   },
   "outputs": [
    {
     "data": {
      "text/plain": [
       "array([[0.5488135 , 0.71518937, 0.60276338],\n",
       "       [0.54488318, 0.4236548 , 0.64589411]])"
      ]
     },
     "execution_count": 27,
     "metadata": {},
     "output_type": "execute_result"
    }
   ],
   "source": [
    "np.random.rand(2, 3)"
   ]
  },
  {
   "cell_type": "code",
   "execution_count": 28,
   "metadata": {
    "id": "sXr332tRa1ms",
    "outputId": "fe6aceb4-09e0-419f-83cf-5207f3ba28b2"
   },
   "outputs": [
    {
     "data": {
      "text/plain": [
       "array([[ 0.95008842, -0.15135721, -0.10321885],\n",
       "       [ 0.4105985 ,  0.14404357,  1.45427351]])"
      ]
     },
     "execution_count": 28,
     "metadata": {},
     "output_type": "execute_result"
    }
   ],
   "source": [
    "np.random.randn(2, 3)"
   ]
  },
  {
   "cell_type": "markdown",
   "metadata": {
    "id": "BtkdDtYQa1mt"
   },
   "source": [
    "#### 1.5.2 隨機產生一維陣列的元素"
   ]
  },
  {
   "cell_type": "code",
   "execution_count": 29,
   "metadata": {
    "id": "U1pWkQJ4a1mt",
    "outputId": "fd48bf61-206c-410d-fb50-82ef51ddfd45"
   },
   "outputs": [
    {
     "data": {
      "text/plain": [
       "array([0.56804456, 0.92559664, 0.07103606, 0.0871293 , 0.0202184 ,\n",
       "       0.83261985, 0.77815675, 0.87001215, 0.97861834, 0.79915856])"
      ]
     },
     "execution_count": 29,
     "metadata": {},
     "output_type": "execute_result"
    }
   ],
   "source": [
    "np.random.random(10)"
   ]
  },
  {
   "cell_type": "code",
   "execution_count": 30,
   "metadata": {
    "id": "xQJg1OLga1mt",
    "outputId": "2d7fabd9-dc59-424e-bdcf-a1fb16d9165f"
   },
   "outputs": [
    {
     "data": {
      "text/plain": [
       "array([4, 4, 4, 8, 1, 2, 1, 5, 8, 4])"
      ]
     },
     "execution_count": 30,
     "metadata": {},
     "output_type": "execute_result"
    }
   ],
   "source": [
    "np.random.randint(1, 10, 10)"
   ]
  },
  {
   "cell_type": "code",
   "execution_count": 31,
   "metadata": {
    "id": "M-GjAbpwa1mu",
    "outputId": "7953f9d5-a5ea-4b06-c80f-35c95fd00fca"
   },
   "outputs": [
    {
     "data": {
      "text/plain": [
       "array([0.18633234, 0.73691818, 0.21655035, 0.13521817, 0.32414101,\n",
       "       0.14967487, 0.22232139, 0.38648898, 0.90259848, 0.44994999])"
      ]
     },
     "execution_count": 31,
     "metadata": {},
     "output_type": "execute_result"
    }
   ],
   "source": [
    "np.random.random_sample(10)"
   ]
  },
  {
   "cell_type": "code",
   "execution_count": 33,
   "metadata": {
    "id": "fCw9M4rca1mu",
    "outputId": "a0aa1500-4d5f-4b69-9b31-e661417aa4a6"
   },
   "outputs": [
    {
     "data": {
      "text/plain": [
       "array([ 0, 14, 99, 53, 12, 42, 84, 75, 68,  6])"
      ]
     },
     "execution_count": 33,
     "metadata": {},
     "output_type": "execute_result"
    }
   ],
   "source": [
    "np.random.choice(100, 10)"
   ]
  },
  {
   "cell_type": "markdown",
   "metadata": {
    "id": "G6yqkIMBa1mu"
   },
   "source": [
    "### 1.6 隨機產生不同分佈的陣列元素\n",
    "\n",
    "隨機陣列也可以產生不同分佈的元素，NumPy 提供的函式和分佈非常豐富，所有函式與詳細說明可以參考官方文件 [Random sampling - Distributions](https://docs.scipy.org/doc/numpy-1.14.0/reference/routines.random.html#distributions)。\n",
    "\n",
    "以 Gamma 分佈為例。\n",
    "\n",
    "【註】若尚未安裝 Matplotlib 及 SciPy 的話，執行下面範例前請先安裝。"
   ]
  },
  {
   "cell_type": "code",
   "execution_count": 34,
   "metadata": {
    "id": "CGVMDwh6a1mv"
   },
   "outputs": [],
   "source": [
    "shape, scale = 2., 2.  # mean=4, std=2*sqrt(2)\n",
    "s = np.random.gamma(shape, scale, 1000)"
   ]
  },
  {
   "cell_type": "code",
   "execution_count": 35,
   "metadata": {
    "id": "L8OJrQtwa1mv",
    "outputId": "4eec52d4-d428-4529-e268-a70c6b209c25"
   },
   "outputs": [
    {
     "data": {
      "image/png": "[encoded data removed]",
      "text/plain": [
       "<Figure size 432x288 with 1 Axes>"
      ]
     },
     "metadata": {
      "needs_background": "light"
     },
     "output_type": "display_data"
    }
   ],
   "source": [
    "%matplotlib inline\n",
    "\n",
    "import matplotlib.pyplot as plt\n",
    "import scipy.special as sps\n",
    "\n",
    "count, bins, ignored = plt.hist(s, 50, density=True)\n",
    "y = bins**(shape-1)*(np.exp(-bins/scale) /\n",
    "                     (sps.gamma(shape)*scale**shape))\n",
    "plt.plot(bins, y, linewidth=2, color='r')\n",
    "plt.show()"
   ]
  },
  {
   "cell_type": "markdown",
   "metadata": {
    "id": "5ydSXZXSa1mv"
   },
   "source": [
    "## 2. NumPy陣列的索引和切片 (Slicing)\n",
    "\n",
    "透過索引存取陣列元素或進行切片 (slicing)，可以使用索引值，或是 [start:stop:step] 語法取得範圍內的元素，要留意的是起始-結束範圍仍是 half-open 的，所以回傳的元素將不包含結束索引的元素。"
   ]
  },
  {
   "cell_type": "code",
   "execution_count": 36,
   "metadata": {
    "id": "VvFsP3_Ea1mv",
    "outputId": "5874fd78-8385-4aa6-b81b-a1dacd859fb1"
   },
   "outputs": [
    {
     "data": {
      "text/plain": [
       "array([ 0,  1,  2,  3,  4,  5,  6,  7,  8,  9, 10, 11, 12, 13, 14, 15, 16,\n",
       "       17, 18, 19])"
      ]
     },
     "execution_count": 36,
     "metadata": {},
     "output_type": "execute_result"
    }
   ],
   "source": [
    "a = np.arange(20)\n",
    "a"
   ]
  },
  {
   "cell_type": "code",
   "execution_count": 37,
   "metadata": {
    "id": "p1ptHcaja1mw",
    "outputId": "f9ea2c5b-44fe-4cd5-ca13-fe0d582f5ef5"
   },
   "outputs": [
    {
     "data": {
      "text/plain": [
       "3"
      ]
     },
     "execution_count": 37,
     "metadata": {},
     "output_type": "execute_result"
    }
   ],
   "source": [
    "a[3]"
   ]
  },
  {
   "cell_type": "code",
   "execution_count": 38,
   "metadata": {
    "id": "oLCO-_mua1mw",
    "outputId": "ff391cd1-e0c0-4917-9b89-309dfd16c6ec"
   },
   "outputs": [
    {
     "data": {
      "text/plain": [
       "array([5, 6, 7, 8, 9])"
      ]
     },
     "execution_count": 38,
     "metadata": {},
     "output_type": "execute_result"
    }
   ],
   "source": [
    "a[5:10]"
   ]
  },
  {
   "cell_type": "code",
   "execution_count": 39,
   "metadata": {
    "id": "M8WkkTkHa1mw",
    "outputId": "f086730c-2096-43d8-a797-dfc700c829db"
   },
   "outputs": [
    {
     "data": {
      "text/plain": [
       "array([5, 7, 9])"
      ]
     },
     "execution_count": 39,
     "metadata": {},
     "output_type": "execute_result"
    }
   ],
   "source": [
    "a[5:10:2]"
   ]
  },
  {
   "cell_type": "markdown",
   "metadata": {
    "id": "h9mbGZZwa1mx"
   },
   "source": [
    "索引 -1 表示取得最後一個元素。"
   ]
  },
  {
   "cell_type": "code",
   "execution_count": 40,
   "metadata": {
    "id": "Ysfy6RwHa1mx",
    "outputId": "22d6af21-e474-439d-a126-114989c815a9"
   },
   "outputs": [
    {
     "data": {
      "text/plain": [
       "19"
      ]
     },
     "execution_count": 40,
     "metadata": {},
     "output_type": "execute_result"
    }
   ],
   "source": [
    "a[-1]"
   ]
  },
  {
   "cell_type": "markdown",
   "metadata": {
    "id": "1FQpHSpta1mx"
   },
   "source": [
    "切片如果只有給定 step 值為 -1 的話，則代表是反向取出，元素值是從最後一筆開始取出。"
   ]
  },
  {
   "cell_type": "code",
   "execution_count": 41,
   "metadata": {
    "id": "IeQYRs_Ba1mx",
    "outputId": "e65351a0-daaa-4495-bffc-c933ca48660f"
   },
   "outputs": [
    {
     "data": {
      "text/plain": [
       "array([19, 18, 17, 16, 15, 14, 13, 12, 11, 10,  9,  8,  7,  6,  5,  4,  3,\n",
       "        2,  1,  0])"
      ]
     },
     "execution_count": 41,
     "metadata": {},
     "output_type": "execute_result"
    }
   ],
   "source": [
    "a[::-1]"
   ]
  },
  {
   "cell_type": "markdown",
   "metadata": {
    "id": "O8Artq_pa1my"
   },
   "source": [
    "多維陣列的索引是分別給定各維度的索引值或範圍。"
   ]
  },
  {
   "cell_type": "code",
   "execution_count": 42,
   "metadata": {
    "id": "GUD8H239a1my",
    "outputId": "7b84e7d1-73f5-4e8e-da8f-5a0bb009fa05"
   },
   "outputs": [
    {
     "data": {
      "text/plain": [
       "array([[1, 2, 3],\n",
       "       [4, 5, 6]])"
      ]
     },
     "execution_count": 42,
     "metadata": {},
     "output_type": "execute_result"
    }
   ],
   "source": [
    "b = np.array([[1, 2, 3], [4, 5, 6]])\n",
    "b"
   ]
  },
  {
   "cell_type": "code",
   "execution_count": 43,
   "metadata": {
    "id": "kINkgFE0a1my",
    "outputId": "91f65720-4cf5-4f26-ed55-77c136a50ad0"
   },
   "outputs": [
    {
     "data": {
      "text/plain": [
       "3"
      ]
     },
     "execution_count": 43,
     "metadata": {},
     "output_type": "execute_result"
    }
   ],
   "source": [
    "b[0, 2]"
   ]
  },
  {
   "cell_type": "markdown",
   "metadata": {
    "id": "-ZAO0Ozla1my"
   },
   "source": [
    "若沒有給定 start 或 stop 值的話則代表是取出該索引之前或之後的所有元素。若 start 和 stop 值都沒有給定的話，就是取出所有元素值。"
   ]
  },
  {
   "cell_type": "code",
   "execution_count": 44,
   "metadata": {
    "id": "3yjel0Cua1mz",
    "outputId": "7da2645e-e4cc-4f31-f458-6f2633441886"
   },
   "outputs": [
    {
     "data": {
      "text/plain": [
       "array([[2, 3],\n",
       "       [5, 6]])"
      ]
     },
     "execution_count": 44,
     "metadata": {},
     "output_type": "execute_result"
    }
   ],
   "source": [
    "b[:, 1:]"
   ]
  },
  {
   "cell_type": "markdown",
   "metadata": {
    "id": "vL7xwe0Da1mz"
   },
   "source": [
    "## 3. NumPy 陣列的常用屬性\n",
    "\n",
    "|屬性|說明|\n",
    "|---|---|\n",
    "|shape|陣列的形狀|\n",
    "|ndim|陣列的維度數目，也就是軸(axis)的數目|\n",
    "|dtype|陣列元素的資料型別|\n",
    "|size|陣列元素的數目|\n",
    "|flat|陣列的一維迭代器|\n",
    "|T|陣列轉置|\n",
    "|real|陣列元素複數(complex number)的實數部分|\n",
    "|imag|陣列元素複數(complex number)的虚數部分|\n",
    "|data|顯示buffer物件，指向陣列資料的開始位址|\n",
    "|itemsize|每個元素的記憶體使用量|\n",
    "|nbytes|陣列所有元素的記憶體使用量|\n",
    "|strides|往相郼元素移動時需要的byte數|"
   ]
  },
  {
   "cell_type": "markdown",
   "metadata": {
    "id": "mqA3dptNa1m0"
   },
   "source": [
    "a 陣列為二維陣列，陣列形狀、維度、元素數目可透過屬性查看。"
   ]
  },
  {
   "cell_type": "code",
   "execution_count": 45,
   "metadata": {
    "id": "suguCpLEa1m0"
   },
   "outputs": [],
   "source": [
    "a = np.array([[1, 2, 3, 4, 5],\n",
    "              [4, 5, 6, 7, 8]])"
   ]
  },
  {
   "cell_type": "code",
   "execution_count": 46,
   "metadata": {
    "id": "bJtrUn9Pa1m0",
    "outputId": "d72602e1-d890-4659-defc-644cabe1220e"
   },
   "outputs": [
    {
     "data": {
      "text/plain": [
       "(2, 5)"
      ]
     },
     "execution_count": 46,
     "metadata": {},
     "output_type": "execute_result"
    }
   ],
   "source": [
    "a.shape"
   ]
  },
  {
   "cell_type": "code",
   "execution_count": 47,
   "metadata": {
    "id": "iRVRyVOsa1m0",
    "outputId": "fa7bf9c2-92b0-4038-9927-94125eb7309d"
   },
   "outputs": [
    {
     "data": {
      "text/plain": [
       "2"
      ]
     },
     "execution_count": 47,
     "metadata": {},
     "output_type": "execute_result"
    }
   ],
   "source": [
    "a.ndim"
   ]
  },
  {
   "cell_type": "code",
   "execution_count": 48,
   "metadata": {
    "id": "KKkc-h9Ya1m1",
    "outputId": "a5e262c2-2fb0-4a02-f357-ecb1da6df70e"
   },
   "outputs": [
    {
     "data": {
      "text/plain": [
       "dtype('int32')"
      ]
     },
     "execution_count": 48,
     "metadata": {},
     "output_type": "execute_result"
    }
   ],
   "source": [
    "a.dtype"
   ]
  },
  {
   "cell_type": "code",
   "execution_count": 49,
   "metadata": {
    "id": "9JUnJafia1m1",
    "outputId": "4fba6c03-c1a7-4700-db9a-28a7ce41b838"
   },
   "outputs": [
    {
     "data": {
      "text/plain": [
       "10"
      ]
     },
     "execution_count": 49,
     "metadata": {},
     "output_type": "execute_result"
    }
   ],
   "source": [
    "a.size"
   ]
  },
  {
   "cell_type": "markdown",
   "metadata": {
    "id": "mZCr8ZLDa1m2"
   },
   "source": [
    "若將 a 陣列透過一維迭代器來查看的話，索引 6 的元素值將是 5。"
   ]
  },
  {
   "cell_type": "code",
   "execution_count": 50,
   "metadata": {
    "id": "HwrfPbnla1m2",
    "outputId": "eb72c8e2-dc64-4338-eb77-582cb459a0e1"
   },
   "outputs": [
    {
     "data": {
      "text/plain": [
       "5"
      ]
     },
     "execution_count": 50,
     "metadata": {},
     "output_type": "execute_result"
    }
   ],
   "source": [
    "a.flat[6]"
   ]
  },
  {
   "cell_type": "markdown",
   "metadata": {
    "id": "fMcTy52ha1m2"
   },
   "source": [
    "轉置 (transpose) 陣列，將會在後續線性代數的單元有更多的介紹。"
   ]
  },
  {
   "cell_type": "code",
   "execution_count": 51,
   "metadata": {
    "id": "dsZIjjHra1m2",
    "outputId": "c1ebc2ea-cad0-4b8b-80d7-f511ccaa991d"
   },
   "outputs": [
    {
     "data": {
      "text/plain": [
       "array([[1, 4],\n",
       "       [2, 5],\n",
       "       [3, 6],\n",
       "       [4, 7],\n",
       "       [5, 8]])"
      ]
     },
     "execution_count": 51,
     "metadata": {},
     "output_type": "execute_result"
    }
   ],
   "source": [
    "a.T"
   ]
  },
  {
   "cell_type": "markdown",
   "metadata": {
    "id": "ajL7J3bya1m3"
   },
   "source": [
    "x 陣列的元素為複數 (complex number)，查看 `real` 與 `imag` 屬性分別顯示數字的實部與虚部。"
   ]
  },
  {
   "cell_type": "code",
   "execution_count": 52,
   "metadata": {
    "id": "4rp939Kua1m3",
    "outputId": "8fc75558-4d88-4bbf-ea89-020e709800f9"
   },
   "outputs": [
    {
     "data": {
      "text/plain": [
       "array([1.+0.j, 0.+1.j])"
      ]
     },
     "execution_count": 52,
     "metadata": {},
     "output_type": "execute_result"
    }
   ],
   "source": [
    "x = np.array([1+0j, 0+1j])\n",
    "x"
   ]
  },
  {
   "cell_type": "code",
   "execution_count": 53,
   "metadata": {
    "id": "WiJ98FUta1m3",
    "outputId": "41ee48c5-2e6f-4b75-d23d-a3216e43db32"
   },
   "outputs": [
    {
     "data": {
      "text/plain": [
       "array([1., 0.])"
      ]
     },
     "execution_count": 53,
     "metadata": {},
     "output_type": "execute_result"
    }
   ],
   "source": [
    "x.real"
   ]
  },
  {
   "cell_type": "code",
   "execution_count": 54,
   "metadata": {
    "id": "JlU38MYOa1m4",
    "outputId": "8c49909c-3683-4e37-bd25-db5b63caa073"
   },
   "outputs": [
    {
     "data": {
      "text/plain": [
       "array([0., 1.])"
      ]
     },
     "execution_count": 54,
     "metadata": {},
     "output_type": "execute_result"
    }
   ],
   "source": [
    "x.imag"
   ]
  },
  {
   "cell_type": "code",
   "execution_count": 55,
   "metadata": {
    "id": "9isWHxO5a1m4",
    "outputId": "abdd167e-457a-4e4f-af13-a98119b26737"
   },
   "outputs": [
    {
     "data": {
      "text/plain": [
       "<memory at 0x000002E077E4AC40>"
      ]
     },
     "execution_count": 55,
     "metadata": {},
     "output_type": "execute_result"
    }
   ],
   "source": [
    "# 顯示buffer物件，指向陣列資料的開始位址\n",
    "x.data"
   ]
  },
  {
   "cell_type": "markdown",
   "metadata": {
    "id": "Tpk_95Z2a1m4"
   },
   "source": [
    "b 陣列的資料型別為 `int64` 64 bit 的整數，也就是 8 byte，陣列有 3 個元素所以陣列的 `dtype`、`itemsize`、`nbytes`、`strides` 元範及結果如下。"
   ]
  },
  {
   "cell_type": "code",
   "execution_count": 56,
   "metadata": {
    "id": "zcXiOV2xa1m4"
   },
   "outputs": [],
   "source": [
    "b = np.array([1, 2, 3])"
   ]
  },
  {
   "cell_type": "code",
   "execution_count": 57,
   "metadata": {
    "id": "6yt7T_1aa1m5",
    "outputId": "07c3fbe3-b55c-450c-b270-21a6a6c1b6f0"
   },
   "outputs": [
    {
     "data": {
      "text/plain": [
       "dtype('int32')"
      ]
     },
     "execution_count": 57,
     "metadata": {},
     "output_type": "execute_result"
    }
   ],
   "source": [
    "b.dtype"
   ]
  },
  {
   "cell_type": "code",
   "execution_count": 58,
   "metadata": {
    "id": "lfutxvI4a1m5",
    "outputId": "e576105a-76db-4814-e2a0-3ad7b96521b7"
   },
   "outputs": [
    {
     "data": {
      "text/plain": [
       "4"
      ]
     },
     "execution_count": 58,
     "metadata": {},
     "output_type": "execute_result"
    }
   ],
   "source": [
    "b.itemsize"
   ]
  },
  {
   "cell_type": "code",
   "execution_count": 59,
   "metadata": {
    "id": "cwTplS5oa1m5",
    "outputId": "cc1ce6ba-8e02-455a-f3c7-cff043371f7d"
   },
   "outputs": [
    {
     "data": {
      "text/plain": [
       "12"
      ]
     },
     "execution_count": 59,
     "metadata": {},
     "output_type": "execute_result"
    }
   ],
   "source": [
    "b.nbytes"
   ]
  },
  {
   "cell_type": "code",
   "execution_count": 60,
   "metadata": {
    "id": "TrJSC2mBa1m5",
    "outputId": "7649cfd3-f9d5-4846-b23a-22eaf7d06d7f"
   },
   "outputs": [
    {
     "data": {
      "text/plain": [
       "(4,)"
      ]
     },
     "execution_count": 60,
     "metadata": {},
     "output_type": "execute_result"
    }
   ],
   "source": [
    "b.strides"
   ]
  },
  {
   "cell_type": "code",
   "execution_count": null,
   "metadata": {
    "id": "Q7qAYN-2a1m6"
   },
   "outputs": [],
   "source": []
  }
 ],
 "metadata": {
  "@webio": {
   "lastCommId": null,
   "lastKernelId": null
  },
  "colab": {
   "name": "範例程式.ipynb",
   "provenance": []
  },
  "kernelspec": {
   "display_name": "Python 3",
   "language": "python",
   "name": "python3"
  },
  "language_info": {
   "codemirror_mode": {
    "name": "ipython",
    "version": 3
   },
   "file_extension": ".py",
   "mimetype": "text/x-python",
   "name": "python",
   "nbconvert_exporter": "python",
   "pygments_lexer": "ipython3",
   "version": "3.8.3"
  }
 },
 "nbformat": 4,
 "nbformat_minor": 1
}
